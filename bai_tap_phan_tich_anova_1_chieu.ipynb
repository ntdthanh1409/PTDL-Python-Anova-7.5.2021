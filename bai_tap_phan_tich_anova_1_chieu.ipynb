{
  "nbformat": 4,
  "nbformat_minor": 0,
  "metadata": {
    "kernelspec": {
      "display_name": "Python 3",
      "language": "python",
      "name": "python3"
    },
    "language_info": {
      "codemirror_mode": {
        "name": "ipython",
        "version": 3
      },
      "file_extension": ".py",
      "mimetype": "text/x-python",
      "name": "python",
      "nbconvert_exporter": "python",
      "pygments_lexer": "ipython3",
      "version": "3.7.3"
    },
    "colab": {
      "name": "Bản sao của bai-tap-phan-tich-anova-1-chieu.ipynb",
      "provenance": [],
      "toc_visible": true,
      "include_colab_link": true
    }
  },
  "cells": [
    {
      "cell_type": "markdown",
      "metadata": {
        "id": "view-in-github",
        "colab_type": "text"
      },
      "source": [
        "<a href=\"https://colab.research.google.com/github/ntdthanh1409/PTDL-Python-Anova-7.5.2021/blob/main/bai_tap_phan_tich_anova_1_chieu.ipynb\" target=\"_parent\"><img src=\"https://colab.research.google.com/assets/colab-badge.svg\" alt=\"Open In Colab\"/></a>"
      ]
    },
    {
      "cell_type": "markdown",
      "metadata": {
        "id": "Laq0n3iCXMIN"
      },
      "source": [
        "Hãy sử dụng các tập dữ liệu sau và tiến hành phân tích ANOVA 1 chiều\n",
        "\n",
        "- [Excavation Depth and Archaeology](https://college.cengage.com/mathematics/brase/understandable_statistics/7e/students/datasets/owan/frames/owan01.html)\n",
        "- [Apple Orchard Experiment](https://college.cengage.com/mathematics/brase/understandable_statistics/7e/students/datasets/owan/frames/owan02.html)\n",
        "- [Red Dye Number 40](https://college.cengage.com/mathematics/brase/understandable_statistics/7e/students/datasets/owan/frames/owan03.html)\n",
        "- [Business Startup Costs](https://college.cengage.com/mathematics/brase/understandable_statistics/7e/students/datasets/owan/frames/owan04.html)\n",
        "- [Weights of Football Players](https://college.cengage.com/mathematics/brase/understandable_statistics/7e/students/datasets/owan/frames/owan05.html)"
      ]
    },
    {
      "cell_type": "code",
      "metadata": {
        "id": "d_IbOWnZXMIR"
      },
      "source": [
        "#Code here\n",
        "import pandas as pd\n",
        "from scipy import stats\n",
        "import statistics"
      ],
      "execution_count": 15,
      "outputs": []
    },
    {
      "cell_type": "markdown",
      "metadata": {
        "id": "C7DfMJPyHuaI"
      },
      "source": [
        "Excavation Depth and Archaeology"
      ]
    },
    {
      "cell_type": "code",
      "metadata": {
        "id": "lbxoIs9MXMIS"
      },
      "source": [
        "def shapiro_test(samples):\n",
        "  for (stt, sample) in enumerate(samples):\n",
        "    pv_s = stats.shapiro(sample)[1]\n",
        "    print('pvalue_s: ',pv_s)\n",
        "    if pv_s > 0.05:\n",
        "      print('Không thể bác bỏ giả thiết H0: Phân phối của dữ liệu ' + str(stt+1) + ' là chuẩn')\n",
        "    else:\n",
        "      print('Dữ liệu ' + str(stt+1) + ' không tuân theo luật phân phối chuẩn')\n",
        "\n",
        "def levene_test(samples):\n",
        "  pv_l = stats.levene(*samples)[1]\n",
        "  print('pvalue_l: ', pv_l)\n",
        "  if pv_l > 0.05:\n",
        "    print('Phương sai bằng nhau')\n",
        "  else:\n",
        "    print('Có ít nhất một cặp Phương sai không bằng nhau')\n",
        "\n",
        "def anova_test(samples):\n",
        "  pv_a = stats.f_oneway(*samples)[1]\n",
        "  print('pvalue_a: ', pv_a)\n",
        "  if pv_a > 0.05:\n",
        "    print('các giá trị trung bình bằng nhau')\n",
        "  else:\n",
        "    print('Có tối thiểu một cặp giá trị trung bình có giá trị khác nhau')"
      ],
      "execution_count": 16,
      "outputs": []
    },
    {
      "cell_type": "code",
      "metadata": {
        "colab": {
          "base_uri": "https://localhost:8080/"
        },
        "id": "WmAcqFzLrWMN",
        "outputId": "c30d22c2-41fe-45e9-a3ea-84ac4bcb9228"
      },
      "source": [
        "ex_1 = pd.read_excel('owan01.xls')\n",
        "samples = []\n",
        "for i in ex_1.columns:\n",
        "  samples.append(ex_1[i].dropna())\n",
        "shapiro_test(samples)\n",
        "levene_test(samples)\n",
        "anova_test(samples)"
      ],
      "execution_count": 17,
      "outputs": [
        {
          "output_type": "stream",
          "text": [
            "*** No CODEPAGE record, no encoding_override: will use 'ascii'\n",
            "pvalue_s:  0.9960364103317261\n",
            "Không thể bác bỏ giả thiết H0: Phân phối của dữ liệu 1 là chuẩn\n",
            "pvalue_s:  0.864689826965332\n",
            "Không thể bác bỏ giả thiết H0: Phân phối của dữ liệu 2 là chuẩn\n",
            "pvalue_s:  0.601704478263855\n",
            "Không thể bác bỏ giả thiết H0: Phân phối của dữ liệu 3 là chuẩn\n",
            "pvalue_s:  0.13579683005809784\n",
            "Không thể bác bỏ giả thiết H0: Phân phối của dữ liệu 4 là chuẩn\n",
            "pvalue_l:  0.5020818274234007\n",
            "Phương sai bằng nhau\n",
            "pvalue_a:  7.99057539367343e-07\n",
            "Có tối thiểu một cặp giá trị trung bình có giá trị khác nhau\n"
          ],
          "name": "stdout"
        }
      ]
    },
    {
      "cell_type": "code",
      "metadata": {
        "colab": {
          "base_uri": "https://localhost:8080/"
        },
        "id": "uIRV9nwXX-sP",
        "outputId": "dcf97ec1-1453-4bc1-cfa0-68d7f058e353"
      },
      "source": [
        "ex_2 = pd.read_excel('owan02.xls')\n",
        "samples = []\n",
        "for i in ex_1.columns:\n",
        "  samples.append(ex_2[i].dropna())\n",
        "shapiro_test(samples)\n",
        "levene_test(samples)\n",
        "anova_test(samples)\n"
      ],
      "execution_count": 18,
      "outputs": [
        {
          "output_type": "stream",
          "text": [
            "*** No CODEPAGE record, no encoding_override: will use 'ascii'\n",
            "pvalue_s:  0.644533634185791\n",
            "Không thể bác bỏ giả thiết H0: Phân phối của dữ liệu 1 là chuẩn\n",
            "pvalue_s:  0.7472830414772034\n",
            "Không thể bác bỏ giả thiết H0: Phân phối của dữ liệu 2 là chuẩn\n",
            "pvalue_s:  0.3169650137424469\n",
            "Không thể bác bỏ giả thiết H0: Phân phối của dữ liệu 3 là chuẩn\n",
            "pvalue_s:  0.5994704365730286\n",
            "Không thể bác bỏ giả thiết H0: Phân phối của dữ liệu 4 là chuẩn\n",
            "pvalue_l:  0.7650714581028858\n",
            "Phương sai bằng nhau\n",
            "pvalue_a:  0.6409257498820091\n",
            "các giá trị trung bình bằng nhau\n"
          ],
          "name": "stdout"
        }
      ]
    },
    {
      "cell_type": "code",
      "metadata": {
        "colab": {
          "base_uri": "https://localhost:8080/"
        },
        "id": "D9xexi0P4mna",
        "outputId": "ac27a1db-8d64-4dc9-c3a9-920471af8dd9"
      },
      "source": [
        "ex_3 = pd.read_excel('owan03.xls')\n",
        "samples = []\n",
        "for i in ex_3.columns:\n",
        "  samples.append(ex_3[i].dropna())\n",
        "shapiro_test(samples)\n",
        "levene_test(samples) # các cặp phương sai không bằng nhau nên sẽ không thỏa các điều kiện để tiến hành anova test\n",
        "anova_test(samples)"
      ],
      "execution_count": 19,
      "outputs": [
        {
          "output_type": "stream",
          "text": [
            "*** No CODEPAGE record, no encoding_override: will use 'ascii'\n",
            "pvalue_s:  0.23906797170639038\n",
            "Không thể bác bỏ giả thiết H0: Phân phối của dữ liệu 1 là chuẩn\n",
            "pvalue_s:  0.9998751282691956\n",
            "Không thể bác bỏ giả thiết H0: Phân phối của dữ liệu 2 là chuẩn\n",
            "pvalue_s:  0.19140109419822693\n",
            "Không thể bác bỏ giả thiết H0: Phân phối của dữ liệu 3 là chuẩn\n",
            "pvalue_s:  0.14956821501255035\n",
            "Không thể bác bỏ giả thiết H0: Phân phối của dữ liệu 4 là chuẩn\n",
            "pvalue_l:  0.02110640000655371\n",
            "Có ít nhất một cặp Phương sai không bằng nhau\n",
            "pvalue_a:  0.024471844533744118\n",
            "Có tối thiểu một cặp giá trị trung bình có giá trị khác nhau\n"
          ],
          "name": "stdout"
        }
      ]
    },
    {
      "cell_type": "code",
      "metadata": {
        "colab": {
          "base_uri": "https://localhost:8080/"
        },
        "id": "ARphgaa04qgk",
        "outputId": "cd289bbe-0722-46a4-b73c-dac30b671ec7"
      },
      "source": [
        "ex_4 = pd.read_excel('owan04.xls')\n",
        "samples = []\n",
        "for i in ex_4.columns:\n",
        "  samples.append(ex_4[i].dropna())\n",
        "shapiro_test(samples)\n",
        "levene_test(samples)\n",
        "anova_test(samples)"
      ],
      "execution_count": 20,
      "outputs": [
        {
          "output_type": "stream",
          "text": [
            "*** No CODEPAGE record, no encoding_override: will use 'ascii'\n",
            "pvalue_s:  0.7370653748512268\n",
            "Không thể bác bỏ giả thiết H0: Phân phối của dữ liệu 1 là chuẩn\n",
            "pvalue_s:  0.5559222102165222\n",
            "Không thể bác bỏ giả thiết H0: Phân phối của dữ liệu 2 là chuẩn\n",
            "pvalue_s:  0.3917592167854309\n",
            "Không thể bác bỏ giả thiết H0: Phân phối của dữ liệu 3 là chuẩn\n",
            "pvalue_s:  0.5785742998123169\n",
            "Không thể bác bỏ giả thiết H0: Phân phối của dữ liệu 4 là chuẩn\n",
            "pvalue_s:  0.17400741577148438\n",
            "Không thể bác bỏ giả thiết H0: Phân phối của dữ liệu 5 là chuẩn\n",
            "pvalue_l:  0.9309738160407797\n",
            "Phương sai bằng nhau\n",
            "pvalue_a:  0.018391232905488122\n",
            "Có tối thiểu một cặp giá trị trung bình có giá trị khác nhau\n"
          ],
          "name": "stdout"
        }
      ]
    },
    {
      "cell_type": "code",
      "metadata": {
        "colab": {
          "base_uri": "https://localhost:8080/"
        },
        "id": "XEPcAl8h42Wa",
        "outputId": "c65b67c3-b788-4373-d380-0f79619fbf48"
      },
      "source": [
        "ex_5 = pd.read_excel('owan05.xls')\n",
        "samples = []\n",
        "for i in ex_5.columns:\n",
        "  samples.append(ex_5[i].dropna())\n",
        "shapiro_test(samples) # vì có một mẫu không tuân theo phân phối chuẩn nên khó đi đến kết luận của Anova test\n",
        "levene_test(samples)\n",
        "anova_test(samples)"
      ],
      "execution_count": 21,
      "outputs": [
        {
          "output_type": "stream",
          "text": [
            "*** No CODEPAGE record, no encoding_override: will use 'ascii'\n",
            "pvalue_s:  0.028549334034323692\n",
            "Dữ liệu 1 không tuân theo luật phân phối chuẩn\n",
            "pvalue_s:  0.16341625154018402\n",
            "Không thể bác bỏ giả thiết H0: Phân phối của dữ liệu 2 là chuẩn\n",
            "pvalue_s:  0.6627115607261658\n",
            "Không thể bác bỏ giả thiết H0: Phân phối của dữ liệu 3 là chuẩn\n",
            "pvalue_s:  0.06506332755088806\n",
            "Không thể bác bỏ giả thiết H0: Phân phối của dữ liệu 4 là chuẩn\n",
            "pvalue_s:  0.3383376896381378\n",
            "Không thể bác bỏ giả thiết H0: Phân phối của dữ liệu 5 là chuẩn\n",
            "pvalue_l:  0.9835921534462739\n",
            "Phương sai bằng nhau\n",
            "pvalue_a:  0.18898555405394352\n",
            "các giá trị trung bình bằng nhau\n"
          ],
          "name": "stdout"
        }
      ]
    }
  ]
}