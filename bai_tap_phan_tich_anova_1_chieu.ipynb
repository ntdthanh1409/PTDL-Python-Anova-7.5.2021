{
  "nbformat": 4,
  "nbformat_minor": 0,
  "metadata": {
    "kernelspec": {
      "display_name": "Python 3",
      "language": "python",
      "name": "python3"
    },
    "language_info": {
      "codemirror_mode": {
        "name": "ipython",
        "version": 3
      },
      "file_extension": ".py",
      "mimetype": "text/x-python",
      "name": "python",
      "nbconvert_exporter": "python",
      "pygments_lexer": "ipython3",
      "version": "3.7.3"
    },
    "colab": {
      "name": "bai-tap-phan-tich-anova-1-chieu.ipynb",
      "provenance": [],
      "include_colab_link": true
    }
  },
  "cells": [
    {
      "cell_type": "markdown",
      "metadata": {
        "id": "view-in-github",
        "colab_type": "text"
      },
      "source": [
        "<a href=\"https://colab.research.google.com/github/ntdthanh1409/PTDL-Python-Anova-7.5.2021/blob/main/bai_tap_phan_tich_anova_1_chieu.ipynb\" target=\"_parent\"><img src=\"https://colab.research.google.com/assets/colab-badge.svg\" alt=\"Open In Colab\"/></a>"
      ]
    },
    {
      "cell_type": "markdown",
      "metadata": {
        "id": "Laq0n3iCXMIN"
      },
      "source": [
        "Hãy sử dụng các tập dữ liệu sau và tiến hành phân tích ANOVA 1 chiều\n",
        "\n",
        "- [Excavation Depth and Archaeology](https://college.cengage.com/mathematics/brase/understandable_statistics/7e/students/datasets/owan/frames/owan01.html)\n",
        "- [Apple Orchard Experiment](https://college.cengage.com/mathematics/brase/understandable_statistics/7e/students/datasets/owan/frames/owan02.html)\n",
        "- [Red Dye Number 40](https://college.cengage.com/mathematics/brase/understandable_statistics/7e/students/datasets/owan/frames/owan03.html)\n",
        "- [Business Startup Costs](https://college.cengage.com/mathematics/brase/understandable_statistics/7e/students/datasets/owan/frames/owan04.html)\n",
        "- [Weights of Football Players](https://college.cengage.com/mathematics/brase/understandable_statistics/7e/students/datasets/owan/frames/owan05.html)"
      ]
    },
    {
      "cell_type": "code",
      "metadata": {
        "id": "d_IbOWnZXMIR"
      },
      "source": [
        "#Code here\n",
        "import pandas as pd\n",
        "from scipy import stats\n",
        "import statistics"
      ],
      "execution_count": 271,
      "outputs": []
    },
    {
      "cell_type": "markdown",
      "metadata": {
        "id": "C7DfMJPyHuaI"
      },
      "source": [
        "Excavation Depth and Archaeology"
      ]
    },
    {
      "cell_type": "code",
      "metadata": {
        "id": "lbxoIs9MXMIS"
      },
      "source": [
        "class projectAnova:\n",
        "\n",
        "    def __init__(self,data):\n",
        "        self.data = data\n",
        "        self.samples = []\n",
        "        for i in data.columns:\n",
        "            self.samples.append(data[i].dropna())\n",
        "\n",
        "    def shapiro_test(self):\n",
        "        for (stt, sample) in enumerate(self.samples):\n",
        "            pv_s = stats.shapiro(sample)[1]\n",
        "            print('pvalue_s: ',pv_s)\n",
        "            if pv_s > 0.05:\n",
        "                print('Không thể bác bỏ giả thiết H0: Phân phối của dữ liệu ' + str(stt+1) + ' là chuẩn')\n",
        "            else:\n",
        "                print('Dữ liệu ' + str(stt+1) + ' không tuân theo luật phân phối chuẩn')\n",
        "\n",
        "    def levene_test(self):\n",
        "        pv_l = stats.levene(*self.samples)[1]\n",
        "        print('pvalue_l: ', pv_l)\n",
        "        if pv_l > 0.05:\n",
        "            print('Phương sai bằng nhau')\n",
        "        else:\n",
        "            print('Có ít nhất một cặp Phương sai không bằng nhau')\n",
        "\n",
        "    def anova_test(self):\n",
        "        pv_a = stats.f_oneway(*self.samples)[1]\n",
        "        print('pvalue_a: ', pv_a)\n",
        "        if pv_a > 0.05:\n",
        "            print('các giá trị trung bình bằng nhau')\n",
        "        else:\n",
        "            print('Có tối thiểu một cặp giá trị trung bình có giá trị khác nhau')"
      ],
      "execution_count": 272,
      "outputs": []
    },
    {
      "cell_type": "code",
      "metadata": {
        "colab": {
          "base_uri": "https://localhost:8080/"
        },
        "id": "WmAcqFzLrWMN",
        "outputId": "74099c18-8ee9-4332-c4f8-ea43b3a97d9d"
      },
      "source": [
        "ex_1 = projectAnova(pd.read_excel('owan01.xls'))\n",
        "ex_1.shapiro_test()\n",
        "ex_1.levene_test()\n",
        "ex_1.anova_test()"
      ],
      "execution_count": 273,
      "outputs": [
        {
          "output_type": "stream",
          "text": [
            "*** No CODEPAGE record, no encoding_override: will use 'ascii'\n",
            "pvalue_s:  0.9960364103317261\n",
            "Không thể bác bỏ giả thiết H0: Phân phối của dữ liệu 1 là chuẩn\n",
            "pvalue_s:  0.864689826965332\n",
            "Không thể bác bỏ giả thiết H0: Phân phối của dữ liệu 2 là chuẩn\n",
            "pvalue_s:  0.601704478263855\n",
            "Không thể bác bỏ giả thiết H0: Phân phối của dữ liệu 3 là chuẩn\n",
            "pvalue_s:  0.13579683005809784\n",
            "Không thể bác bỏ giả thiết H0: Phân phối của dữ liệu 4 là chuẩn\n",
            "pvalue_l:  0.5020818274234007\n",
            "Phương sai bằng nhau\n",
            "pvalue_a:  7.99057539367343e-07\n",
            "Có tối thiểu một cặp giá trị trung bình có giá trị khác nhau\n"
          ],
          "name": "stdout"
        }
      ]
    },
    {
      "cell_type": "code",
      "metadata": {
        "colab": {
          "base_uri": "https://localhost:8080/"
        },
        "id": "uIRV9nwXX-sP",
        "outputId": "f0e88574-c9dd-4c07-c81f-ebed52b95d69"
      },
      "source": [
        "ex_2 = projectAnova(pd.read_excel('owan02.xls'))\n",
        "ex_2.shapiro_test()\n",
        "ex_2.levene_test()\n",
        "ex_2.anova_test()\n"
      ],
      "execution_count": 274,
      "outputs": [
        {
          "output_type": "stream",
          "text": [
            "*** No CODEPAGE record, no encoding_override: will use 'ascii'\n",
            "pvalue_s:  0.644533634185791\n",
            "Không thể bác bỏ giả thiết H0: Phân phối của dữ liệu 1 là chuẩn\n",
            "pvalue_s:  0.7472830414772034\n",
            "Không thể bác bỏ giả thiết H0: Phân phối của dữ liệu 2 là chuẩn\n",
            "pvalue_s:  0.3169650137424469\n",
            "Không thể bác bỏ giả thiết H0: Phân phối của dữ liệu 3 là chuẩn\n",
            "pvalue_s:  0.5994704365730286\n",
            "Không thể bác bỏ giả thiết H0: Phân phối của dữ liệu 4 là chuẩn\n",
            "pvalue_s:  0.803491473197937\n",
            "Không thể bác bỏ giả thiết H0: Phân phối của dữ liệu 5 là chuẩn\n",
            "pvalue_l:  0.7871189934362511\n",
            "Phương sai bằng nhau\n",
            "pvalue_a:  0.28382583646160114\n",
            "các giá trị trung bình bằng nhau\n"
          ],
          "name": "stdout"
        }
      ]
    },
    {
      "cell_type": "code",
      "metadata": {
        "colab": {
          "base_uri": "https://localhost:8080/"
        },
        "id": "D9xexi0P4mna",
        "outputId": "ba939595-944e-44f6-9996-5713914cb4e2"
      },
      "source": [
        "ex_3 = projectAnova(pd.read_excel('owan03.xls'))\n",
        "ex_3.shapiro_test()\n",
        "ex_3.levene_test() # các cặp phương sai không bằng nhau nên sẽ không thỏa các điều kiện để tiến hành anova test\n",
        "ex_3.anova_test()"
      ],
      "execution_count": 275,
      "outputs": [
        {
          "output_type": "stream",
          "text": [
            "*** No CODEPAGE record, no encoding_override: will use 'ascii'\n",
            "pvalue_s:  0.23906797170639038\n",
            "Không thể bác bỏ giả thiết H0: Phân phối của dữ liệu 1 là chuẩn\n",
            "pvalue_s:  0.9998751282691956\n",
            "Không thể bác bỏ giả thiết H0: Phân phối của dữ liệu 2 là chuẩn\n",
            "pvalue_s:  0.19140109419822693\n",
            "Không thể bác bỏ giả thiết H0: Phân phối của dữ liệu 3 là chuẩn\n",
            "pvalue_s:  0.14956821501255035\n",
            "Không thể bác bỏ giả thiết H0: Phân phối của dữ liệu 4 là chuẩn\n",
            "pvalue_l:  0.02110640000655371\n",
            "Có ít nhất một cặp Phương sai không bằng nhau\n",
            "pvalue_a:  0.024471844533744118\n",
            "Có tối thiểu một cặp giá trị trung bình có giá trị khác nhau\n"
          ],
          "name": "stdout"
        }
      ]
    },
    {
      "cell_type": "code",
      "metadata": {
        "colab": {
          "base_uri": "https://localhost:8080/"
        },
        "id": "ARphgaa04qgk",
        "outputId": "b9eec5de-8762-4685-e67f-0ee944357bdc"
      },
      "source": [
        "ex_4 = projectAnova(pd.read_excel('owan04.xls'))\n",
        "ex_4.shapiro_test()\n",
        "ex_4.levene_test()\n",
        "ex_4.anova_test()"
      ],
      "execution_count": 276,
      "outputs": [
        {
          "output_type": "stream",
          "text": [
            "*** No CODEPAGE record, no encoding_override: will use 'ascii'\n",
            "pvalue_s:  0.7370653748512268\n",
            "Không thể bác bỏ giả thiết H0: Phân phối của dữ liệu 1 là chuẩn\n",
            "pvalue_s:  0.5559222102165222\n",
            "Không thể bác bỏ giả thiết H0: Phân phối của dữ liệu 2 là chuẩn\n",
            "pvalue_s:  0.3917592167854309\n",
            "Không thể bác bỏ giả thiết H0: Phân phối của dữ liệu 3 là chuẩn\n",
            "pvalue_s:  0.5785742998123169\n",
            "Không thể bác bỏ giả thiết H0: Phân phối của dữ liệu 4 là chuẩn\n",
            "pvalue_s:  0.17400741577148438\n",
            "Không thể bác bỏ giả thiết H0: Phân phối của dữ liệu 5 là chuẩn\n",
            "pvalue_l:  0.9309738160407797\n",
            "Phương sai bằng nhau\n",
            "pvalue_a:  0.018391232905488122\n",
            "Có tối thiểu một cặp giá trị trung bình có giá trị khác nhau\n"
          ],
          "name": "stdout"
        }
      ]
    },
    {
      "cell_type": "code",
      "metadata": {
        "colab": {
          "base_uri": "https://localhost:8080/"
        },
        "id": "XEPcAl8h42Wa",
        "outputId": "947facd9-1f58-4b0d-cc39-47e01e365b65"
      },
      "source": [
        "ex_5 = projectAnova(pd.read_excel('owan05.xls'))\n",
        "ex_5.shapiro_test() # vì có một mẫu không tuân theo phân phối chuẩn nên khó đi đến kết luận của Anova test\n",
        "ex_5.levene_test()\n",
        "ex_5.anova_test()"
      ],
      "execution_count": 277,
      "outputs": [
        {
          "output_type": "stream",
          "text": [
            "*** No CODEPAGE record, no encoding_override: will use 'ascii'\n",
            "pvalue_s:  0.028549334034323692\n",
            "Dữ liệu 1 không tuân theo luật phân phối chuẩn\n",
            "pvalue_s:  0.16341625154018402\n",
            "Không thể bác bỏ giả thiết H0: Phân phối của dữ liệu 2 là chuẩn\n",
            "pvalue_s:  0.6627115607261658\n",
            "Không thể bác bỏ giả thiết H0: Phân phối của dữ liệu 3 là chuẩn\n",
            "pvalue_s:  0.06506332755088806\n",
            "Không thể bác bỏ giả thiết H0: Phân phối của dữ liệu 4 là chuẩn\n",
            "pvalue_s:  0.3383376896381378\n",
            "Không thể bác bỏ giả thiết H0: Phân phối của dữ liệu 5 là chuẩn\n",
            "pvalue_l:  0.9835921534462739\n",
            "Phương sai bằng nhau\n",
            "pvalue_a:  0.18898555405394352\n",
            "các giá trị trung bình bằng nhau\n"
          ],
          "name": "stdout"
        }
      ]
    }
  ]
}